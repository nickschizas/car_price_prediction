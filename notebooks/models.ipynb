{
 "cells": [
  {
   "cell_type": "markdown",
   "id": "878c4eb7",
   "metadata": {},
   "source": [
    "# Packages"
   ]
  },
  {
   "cell_type": "code",
   "execution_count": null,
   "id": "c121a810",
   "metadata": {},
   "outputs": [],
   "source": [
    "import pandas as pd\n",
    "import matplotlib.pyplot as plt\n",
    "\n",
    "from sklearn.model_selection import train_test_split, GridSearchCV\n",
    "from sklearn.metrics import mean_squared_error, mean_absolute_error, r2_score\n",
    "\n",
    "# import shap"
   ]
  },
  {
   "cell_type": "markdown",
   "id": "c4586550",
   "metadata": {},
   "source": [
    "# Load & Process data"
   ]
  },
  {
   "cell_type": "code",
   "execution_count": 7,
   "id": "0b0e3ef4",
   "metadata": {},
   "outputs": [
    {
     "name": "stdout",
     "output_type": "stream",
     "text": [
      "18304 rows, 8 attributes\n"
     ]
    }
   ],
   "source": [
    "DATA_PATH = r'./data/clean'\n",
    "FILE_NAME = 'data_clean_20240509.csv'\n",
    "\n",
    "data = pd.read_csv(DATA_PATH+FILE_NAME, sep=';')\n",
    "print(f'{data.shape[0]} rows, {data.shape[1]} attributes')"
   ]
  },
  {
   "cell_type": "code",
   "execution_count": 8,
   "id": "70e34b9e",
   "metadata": {},
   "outputs": [],
   "source": [
    "data_processed = pd.get_dummies(data, prefix_sep = '_')\n",
    "\n",
    "X = data_processed.drop('Price', axis=1)\n",
    "y = data_processed['Price']\n",
    "\n",
    "X_train, X_test, y_train, y_test = train_test_split(X, y, test_size=.2, random_state=123)"
   ]
  },
  {
   "cell_type": "markdown",
   "id": "f923ca8a",
   "metadata": {},
   "source": [
    "# Models building"
   ]
  },
  {
   "cell_type": "code",
   "execution_count": 9,
   "id": "3c4dde52",
   "metadata": {},
   "outputs": [],
   "source": [
    "def get_metrics(y_test, y_pred, return_=False):\n",
    "    mse = mean_squared_error(y_test, y_pred)\n",
    "    mae = mean_absolute_error(y_test, y_pred)\n",
    "    r2 = r2_score(y_test, y_pred)\n",
    "    \n",
    "    print(f'Mean Absolute Error: {round(mae,3)}')\n",
    "    print(f'Mean Squared Error: {round(mse,3)}')\n",
    "    print(f'R-squared {round(r2,3)}')\n",
    "\n",
    "    if return_:\n",
    "        return mse, mae, r2"
   ]
  },
  {
   "cell_type": "markdown",
   "id": "190e54ce",
   "metadata": {},
   "source": [
    "## RandomForestRegressor"
   ]
  },
  {
   "cell_type": "code",
   "execution_count": 22,
   "id": "d9c9621d",
   "metadata": {},
   "outputs": [],
   "source": [
    "from sklearn.ensemble import RandomForestRegressor\n",
    "rfr = RandomForestRegressor()\n",
    "rfr.fit(X_train, y_train)\n",
    "y_pred_rfr = rfr.predict(X_test)\n",
    "get_metrics(y_test, y_pred_rfr)"
   ]
  },
  {
   "cell_type": "markdown",
   "id": "aad8ab41",
   "metadata": {},
   "source": [
    "## XGBRegressor"
   ]
  },
  {
   "cell_type": "code",
   "execution_count": 12,
   "id": "2d1f1651",
   "metadata": {},
   "outputs": [],
   "source": [
    "from xgboost import XGBRegressor\n",
    "xgb = XGBRegressor(n_jobs=-1)\n",
    "xgb.fit(X_train, y_train)\n",
    "y_pred_xgb = xgb.predict(X_test)\n",
    "get_metrics(y_test, y_pred_xgb, xgb)"
   ]
  },
  {
   "cell_type": "markdown",
   "id": "951feafe",
   "metadata": {},
   "source": [
    "## LightGBM  \n",
    "[*medium article 1*](https://medium.com/@turkishtechnology/light-gbm-light-and-powerful-gradient-boost-algorithm-eaa1e804eca8)  \n",
    "[*medium article 2*](https://nikolh92.medium.com/what-makes-lightgbm-sometimes-better-how-to-quickly-implement-it-3265e701e8d2)  \n",
    "[*medium article 3*](https://medium.com/@ilyurek/light-gbm-a-powerful-gradient-boosting-algorithm-fe145a1cd8a6)"
   ]
  },
  {
   "cell_type": "code",
   "execution_count": 25,
   "id": "7c992898",
   "metadata": {},
   "outputs": [],
   "source": [
    "from lightgbm import LGBMRegressor\n",
    "lgbm = LGBMRegressor(objective='regression')\n",
    "lgbm.fit(X_train, y_train)\n",
    "y_pred_lgbm = lgbm.predict(X_test)\n",
    "get_metrics(y_pred_lgbm, lgbm)"
   ]
  },
  {
   "cell_type": "markdown",
   "id": "45e2c777",
   "metadata": {},
   "source": [
    "# Error Analysis  \n",
    "WIP"
   ]
  },
  {
   "cell_type": "markdown",
   "id": "aefe8018",
   "metadata": {},
   "source": [
    "# SHAP values  \n",
    "WIP"
   ]
  }
 ],
 "metadata": {
  "kernelspec": {
   "display_name": "Python 3 (ipykernel)",
   "language": "python",
   "name": "python3"
  },
  "language_info": {
   "codemirror_mode": {
    "name": "ipython",
    "version": 3
   },
   "file_extension": ".py",
   "mimetype": "text/x-python",
   "name": "python",
   "nbconvert_exporter": "python",
   "pygments_lexer": "ipython3",
   "version": "3.12.3"
  }
 },
 "nbformat": 4,
 "nbformat_minor": 5
}
