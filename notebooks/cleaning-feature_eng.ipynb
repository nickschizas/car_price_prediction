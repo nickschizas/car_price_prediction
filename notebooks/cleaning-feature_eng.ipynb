{
 "cells": [
  {
   "cell_type": "code",
   "execution_count": 1,
   "id": "bb47abf4",
   "metadata": {},
   "outputs": [],
   "source": [
    "import pandas as pd\n",
    "import numpy as np\n",
    "# import matplotlib.pyplot as plt"
   ]
  },
  {
   "cell_type": "code",
   "execution_count": 2,
   "id": "2a58a453",
   "metadata": {},
   "outputs": [],
   "source": [
    "path = r'./data/raw/'\n",
    "name = 'data_2024-05-03_15-32.csv'\n",
    "\n",
    "data_raw = pd.read_csv(path+name)"
   ]
  },
  {
   "cell_type": "markdown",
   "id": "530fcc69",
   "metadata": {},
   "source": [
    "# Data Cleaning"
   ]
  },
  {
   "cell_type": "code",
   "execution_count": 3,
   "id": "f4e215f9",
   "metadata": {},
   "outputs": [
    {
     "name": "stdout",
     "output_type": "stream",
     "text": [
      "6843 car ads of 25895 does not scraped. Percentage: 26.43%\n"
     ]
    }
   ],
   "source": [
    "n_errors = data_raw[data_raw['Name']=='error'].shape[0]\n",
    "perc = n_errors / data_raw.shape[0]\n",
    "print(f'{n_errors} car ads of {data_raw.shape[0]} does not scraped. Percentage: {round(perc*100,2)}%')\n",
    "\n",
    "data_clean = data_raw[data_raw['Name']!='error'].reset_index(drop=True)"
   ]
  },
  {
   "cell_type": "markdown",
   "id": "f5b77c4e",
   "metadata": {},
   "source": [
    "**Clean the brand name column**"
   ]
  },
  {
   "cell_type": "code",
   "execution_count": 4,
   "id": "5c57f235",
   "metadata": {},
   "outputs": [],
   "source": [
    "data_clean['Name_clean'] = data_clean['Name'].apply(lambda text: text.split()[0])\n",
    "data_clean = data_clean[data_clean['Name_clean']!='Αυτοκίνητο']\n",
    "conditions = [data_clean['Name_clean']=='Mini', data_clean['Name_clean']=='Land', data_clean['Name_clean']=='Alfa', data_clean['Name_clean']=='Aston', data_clean['Name_clean']=='Rolls', data_clean['Name_clean']=='Austin']\n",
    "values = ['Mini-Cooper', 'Land-Rover', 'Alfa-Romeo', 'Aston-Martin', 'Rolls-Royce', 'Austin-Morris']\n",
    "data_clean['Name_clean'] = np.select(conditions, values, default=data_clean['Name_clean'])"
   ]
  },
  {
   "cell_type": "markdown",
   "id": "7702f184",
   "metadata": {},
   "source": [
    "**Split and clean \"Info\" column to individuals and merge to the main dataframe**"
   ]
  },
  {
   "cell_type": "code",
   "execution_count": 5,
   "id": "099bde6c",
   "metadata": {},
   "outputs": [],
   "source": [
    "info_columns = data_clean['Info'].str.split(',', expand=True)\n",
    "info_columns[0] = pd.to_datetime(info_columns[0], format='%m/%Y')\n",
    "\n",
    "info_columns = info_columns[info_columns[1].str.contains('χλμ')]\n",
    "info_columns[1] = info_columns[1].str.replace('.', '',regex=False).str.replace('χλμ', '',regex=False).astype(float)\n",
    "\n",
    "info_columns = info_columns[info_columns[2].str.contains('cc')]\n",
    "info_columns[2] = info_columns[2].str.replace('.', '',regex=False).str.replace('cc', '',regex=False).astype(float)\n",
    "\n",
    "info_columns[3] = info_columns[3].str.replace('.', '',regex=False).str.replace('bhp', '',regex=False).astype(float)\n",
    "\n",
    "conditions = [info_columns[4].isin([' Αυτόματο', ' Ημιαυτόματο'])]\n",
    "values = [info_columns[4]]\n",
    "info_columns['GearBox'] = np.select(conditions, values, default='Manual')\n",
    "info_columns['GearBox'] = info_columns['GearBox'].str.strip(' ')\n",
    "\n",
    "conditions = [(info_columns[4] == ' Αυτόματο') | (info_columns[4] == ' Ημιαυτόματο')]\n",
    "values = [info_columns[5]]\n",
    "info_columns[4] = np.select(conditions, values, default=info_columns[4])\n",
    "info_columns[4] = info_columns[4].str.strip(' ')\n",
    "\n",
    "info_columns.drop([5,6,7], axis=1, inplace=True)\n",
    "\n",
    "data_clean_merged = pd.merge(data_clean, info_columns, left_index=True, right_index=True)\n",
    "data_clean_merged.drop(['Info'], axis=1, inplace=True)\n",
    "\n",
    "data_clean_merged.columns = ['FullName','Price','Name','ProductionDate','Klm','CubicCapacity','Horsepower','GasType', 'GearBox']"
   ]
  },
  {
   "cell_type": "markdown",
   "id": "98d94f35",
   "metadata": {},
   "source": [
    "# Feature Engineering"
   ]
  },
  {
   "cell_type": "code",
   "execution_count": 6,
   "id": "911fd076",
   "metadata": {},
   "outputs": [],
   "source": [
    "reference_year = 2024\n",
    "data_clean_merged['Age'] = reference_year - data_clean_merged['ProductionDate'].dt.year\n",
    "data_clean_merged.drop(['FullName', 'ProductionDate'], inplace=True, axis=1)"
   ]
  },
  {
   "cell_type": "markdown",
   "id": "6b4f5580",
   "metadata": {},
   "source": [
    "**Outliers Halding**"
   ]
  },
  {
   "cell_type": "code",
   "execution_count": 7,
   "id": "182415f4",
   "metadata": {},
   "outputs": [],
   "source": [
    "data_clean_merged_filtered = data_clean_merged[data_clean_merged['Price']>1000]"
   ]
  },
  {
   "cell_type": "markdown",
   "id": "ae21a344",
   "metadata": {},
   "source": [
    "**Filter out the car brands that have less than 20 ads. Not big reduction of the dataset**"
   ]
  },
  {
   "cell_type": "code",
   "execution_count": 8,
   "id": "5867706f",
   "metadata": {},
   "outputs": [
    {
     "name": "stdout",
     "output_type": "stream",
     "text": [
      "18481 rows, 8 attributes before filter\n",
      "18304 rows, 8 attributes after filter\n"
     ]
    }
   ],
   "source": [
    "counts_df = pd.DataFrame(data_clean_merged_filtered['Name'].value_counts())\n",
    "counts_df.columns = ['count']\n",
    "counts_df = counts_df[counts_df['count'] >= 20]\n",
    "name_list = list(counts_df.index)\n",
    "\n",
    "print(f'{data_clean_merged_filtered.shape[0]} rows, {data_clean_merged_filtered.shape[1]} attributes before filter')\n",
    "data_clean_merged_filtered = data_clean_merged_filtered[data_clean_merged_filtered['Name'].isin(name_list)]\n",
    "print(f'{data_clean_merged_filtered.shape[0]} rows, {data_clean_merged_filtered.shape[1]} attributes after filter')"
   ]
  },
  {
   "cell_type": "markdown",
   "id": "3bd9b26f",
   "metadata": {},
   "source": [
    "# Save Data"
   ]
  },
  {
   "cell_type": "code",
   "execution_count": 9,
   "id": "30c2c78d",
   "metadata": {},
   "outputs": [
    {
     "name": "stdout",
     "output_type": "stream",
     "text": [
      "Data Saved\n"
     ]
    }
   ],
   "source": [
    "def save_data(save_path, file_name):\n",
    "    data_clean_merged_filtered.to_csv(save_path+file_name, sep=';', index=False)\n",
    "    print('Data Saved')\n",
    "    \n",
    "save_path = r'./data/clean/'\n",
    "save_data(save_path, 'data_clean_20240509.csv')"
   ]
  }
 ],
 "metadata": {
  "kernelspec": {
   "display_name": "Python 3 (ipykernel)",
   "language": "python",
   "name": "python3"
  },
  "language_info": {
   "codemirror_mode": {
    "name": "ipython",
    "version": 3
   },
   "file_extension": ".py",
   "mimetype": "text/x-python",
   "name": "python",
   "nbconvert_exporter": "python",
   "pygments_lexer": "ipython3",
   "version": "3.12.3"
  }
 },
 "nbformat": 4,
 "nbformat_minor": 5
}
