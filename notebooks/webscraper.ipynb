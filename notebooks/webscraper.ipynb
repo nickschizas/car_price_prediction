{
 "cells": [
  {
   "cell_type": "code",
   "execution_count": 1,
   "id": "64d4ab40",
   "metadata": {
    "scrolled": true
   },
   "outputs": [],
   "source": [
    "# packages\n",
    "import pandas as pd\n",
    "import requests\n",
    "from bs4 import BeautifulSoup\n",
    "\n",
    "from datetime import datetime"
   ]
  },
  {
   "cell_type": "markdown",
   "id": "c5f387c9",
   "metadata": {},
   "source": [
    "# Web Scraping from [car.gr](https://www.car.gr/)"
   ]
  },
  {
   "cell_type": "markdown",
   "id": "a52a8fb3",
   "metadata": {},
   "source": [
    "### Construct urls to web scrape"
   ]
  },
  {
   "cell_type": "code",
   "execution_count": 2,
   "id": "477a639b",
   "metadata": {
    "scrolled": true
   },
   "outputs": [],
   "source": [
    "def create_save_urls(save_path, txt_name, num_pages):\n",
    "    urls=[]\n",
    "    for page_number in range(1,num_pages):\n",
    "        url = f'https://www.car.gr/classifieds/cars/?fromfeed=1&pg={page_number}'\n",
    "        urls.append(url)\n",
    "\n",
    "    urls_str = '\\n'.join(urls)\n",
    "    with open(save_path+txt_name, 'w') as f:\n",
    "        f.write(urls_str)\n",
    "    \n",
    "    \n",
    "def read_urls(save_path, txt_name):\n",
    "    with open(save_path+txt_name, 'r') as f:\n",
    "        lines = f.readlines()\n",
    "    lines_striped = []\n",
    "    for line in lines:\n",
    "        lines_striped.append(line.strip())\n",
    "    return lines_striped"
   ]
  },
  {
   "cell_type": "code",
   "execution_count": 3,
   "id": "d1f4db53",
   "metadata": {},
   "outputs": [],
   "source": [
    "path = r'./data/'\n",
    "# create_save_urls(path, 'urls.txt', 2001)\n",
    "urls = read_urls(path, 'urls.txt')"
   ]
  },
  {
   "cell_type": "markdown",
   "id": "75c5fc62",
   "metadata": {},
   "source": [
    "# Extract other information"
   ]
  },
  {
   "cell_type": "code",
   "execution_count": 8,
   "id": "c09198b6",
   "metadata": {},
   "outputs": [],
   "source": [
    "def gather_save_data(urls, save_path):\n",
    "    names, prices, infos = [],[],[]\n",
    "    \n",
    "    for url in urls:\n",
    "        page = requests.get(url)\n",
    "        containers = BeautifulSoup(page.content, 'html').find_all('div', class_='tw-relative tw-w-full tw-pl-3 tw-pr-0 sm:tw-pr-1 space-between-column tw-col-span-7 lg:tw-col-span-9 sm:tw-col-span-8 md:tw-col-span-9')\n",
    "        for container in containers:\n",
    "            try:\n",
    "                name = container.find('h2', class_='title mr-0').string.replace('\\n','').strip()\n",
    "                price = float(container.find('span').span.string.replace('.', ''))\n",
    "                info = container.find('div', class_='tw-text-grey-600').string.replace('\\n','').strip()\n",
    "                names.append(name)\n",
    "                prices.append(price)\n",
    "                infos.append(info)\n",
    "            except:\n",
    "                names.append('error')\n",
    "                prices.append(None)\n",
    "                infos.append(None)\n",
    "    \n",
    "    data = pd.DataFrame({'Name' : names,'Price' : prices,'Info' : infos})\n",
    "    name = f'\\data_{datetime.now().strftime(\"%Y-%m-%d_%H-%M\")}.csv'\n",
    "    data.to_csv(save_path+name, sep=',', index=False)\n",
    "    \n",
    "    print('Save Succesfull!')\n",
    "    n_errors = data[data['Name']=='error'].shape[0]\n",
    "    perc = n_errors / data.shape[0]\n",
    "    print(f'{n_errors} car ads of {data.shape[0]} does not scraped. Percentage: {round(perc*100,2)}%')"
   ]
  },
  {
   "cell_type": "code",
   "execution_count": 9,
   "id": "3d634af6",
   "metadata": {},
   "outputs": [
    {
     "name": "stdout",
     "output_type": "stream",
     "text": [
      "Save Succesfull!\n",
      "6843 car ads of 25895 does not scraped. Percentage: 26.43%\n"
     ]
    }
   ],
   "source": [
    "path = r'./data/raw'\n",
    "gather_save_data(urls, path)"
   ]
  },
  {
   "cell_type": "markdown",
   "id": "4654d5c0",
   "metadata": {},
   "source": [
    "# Extract the images  \n",
    "[*github link*](https://github.com/jhnwr/image-downloader/blob/main/imagedownloader.py#L20)  \n",
    "*WIP*"
   ]
  }
 ],
 "metadata": {
  "kernelspec": {
   "display_name": "Python 3 (ipykernel)",
   "language": "python",
   "name": "python3"
  },
  "language_info": {
   "codemirror_mode": {
    "name": "ipython",
    "version": 3
   },
   "file_extension": ".py",
   "mimetype": "text/x-python",
   "name": "python",
   "nbconvert_exporter": "python",
   "pygments_lexer": "ipython3",
   "version": "3.11.3"
  }
 },
 "nbformat": 4,
 "nbformat_minor": 5
}
